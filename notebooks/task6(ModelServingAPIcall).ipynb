{
 "cells": [
  {
   "cell_type": "code",
   "execution_count": 1,
   "metadata": {},
   "outputs": [],
   "source": [
    "from fastapi import FastAPI, HTTPException\n",
    "from pydantic import BaseModel\n",
    "import joblib\n",
    "import numpy as np\n",
    "\n",
    "# Load the trained models\n",
    "logistic_model = joblib.load('logistic_model.pkl')\n",
    "random_forest_model = joblib.load('random_forest_model.pkl')\n",
    "\n",
    "# Create a FastAPI instance\n",
    "app = FastAPI()\n",
    "\n",
    "# Define the input data model\n",
    "class InputData(BaseModel):\n",
    "    recency_woe: float\n",
    "    frequency: float\n",
    "    monetary: float\n",
    "    rfms_score: float\n",
    "\n",
    "# Define the prediction endpoint for Logistic Regression\n",
    "@app.post(\"/predict/logistic\")\n",
    "def predict_logistic(data: InputData):\n",
    "    input_data = np.array([[data.recency_woe, data.frequency, data.monetary, data.rfms_score]])\n",
    "    prediction = logistic_model.predict(input_data)\n",
    "    return {\"prediction\": int(prediction[0])}\n",
    "\n",
    "# Define the prediction endpoint for Random Forest\n",
    "@app.post(\"/predict/random-forest\")\n",
    "def predict_random_forest(data: InputData):\n",
    "    input_data = np.array([[data.recency_woe, data.frequency, data.monetary, data.rfms_score]])\n",
    "    prediction = random_forest_model.predict(input_data)\n",
    "    return {\"prediction\": int(prediction[0])}"
   ]
  }
 ],
 "metadata": {
  "kernelspec": {
   "display_name": "Python 3",
   "language": "python",
   "name": "python3"
  },
  "language_info": {
   "codemirror_mode": {
    "name": "ipython",
    "version": 3
   },
   "file_extension": ".py",
   "mimetype": "text/x-python",
   "name": "python",
   "nbconvert_exporter": "python",
   "pygments_lexer": "ipython3",
   "version": "3.12.5"
  }
 },
 "nbformat": 4,
 "nbformat_minor": 2
}
