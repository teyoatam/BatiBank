{
 "cells": [
  {
   "cell_type": "code",
   "execution_count": 2,
   "metadata": {},
   "outputs": [],
   "source": [
    "import pandas as pd\n",
    "import numpy as np\n",
    "import matplotlib.pyplot as plt\n",
    "import seaborn as sns\n",
    "from sklearn.preprocessing import LabelEncoder, MinMaxScaler, StandardScaler\n",
    "from sklearn.impute import SimpleImputer\n",
    "from sklearn.cluster import KMeans\n",
    "from sklearn.decomposition import PCA\n",
    "from sklearn.metrics import classification_report, roc_auc_score\n",
    "#%pip install xverse\n",
    "\n",
    "from xverse.transformer import WOE\n",
    "from sklearn.model_selection import train_test_split\n",
    "from sklearn.linear_model import LogisticRegression"
   ]
  },
  {
   "cell_type": "code",
   "execution_count": 20,
   "metadata": {},
   "outputs": [
    {
     "name": "stdout",
     "output_type": "stream",
     "text": [
      "         TransactionId         BatchId       AccountId       SubscriptionId  \\\n",
      "0  TransactionId_76871   BatchId_36123  AccountId_3957   SubscriptionId_887   \n",
      "1  TransactionId_73770   BatchId_15642  AccountId_4841  SubscriptionId_3829   \n",
      "2  TransactionId_26203   BatchId_53941  AccountId_4229   SubscriptionId_222   \n",
      "3    TransactionId_380  BatchId_102363   AccountId_648  SubscriptionId_2185   \n",
      "4  TransactionId_28195   BatchId_38780  AccountId_4841  SubscriptionId_3829   \n",
      "\n",
      "        CustomerId CurrencyCode  CountryCode    ProviderId     ProductId  \\\n",
      "0  CustomerId_4406          UGX          256  ProviderId_6  ProductId_10   \n",
      "1  CustomerId_4406          UGX          256  ProviderId_4   ProductId_6   \n",
      "2  CustomerId_4683          UGX          256  ProviderId_6   ProductId_1   \n",
      "3   CustomerId_988          UGX          256  ProviderId_1  ProductId_21   \n",
      "4   CustomerId_988          UGX          256  ProviderId_4   ProductId_6   \n",
      "\n",
      "      ProductCategory    ChannelId   Amount  Value  TransactionStartTime  \\\n",
      "0             airtime  ChannelId_3   1000.0   1000  2018-11-15T02:18:49Z   \n",
      "1  financial_services  ChannelId_2    -20.0     20  2018-11-15T02:19:08Z   \n",
      "2             airtime  ChannelId_3    500.0    500  2018-11-15T02:44:21Z   \n",
      "3        utility_bill  ChannelId_3  20000.0  21800  2018-11-15T03:32:55Z   \n",
      "4  financial_services  ChannelId_2   -644.0    644  2018-11-15T03:34:21Z   \n",
      "\n",
      "   PricingStrategy  FraudResult  \n",
      "0                2            0  \n",
      "1                2            0  \n",
      "2                2            0  \n",
      "3                2            0  \n",
      "4                2            0  \n"
     ]
    }
   ],
   "source": [
    "df=pd.read_csv('../data/data.csv')\n",
    "print(df.head())"
   ]
  },
  {
   "cell_type": "code",
   "execution_count": 17,
   "metadata": {},
   "outputs": [
    {
     "name": "stdout",
     "output_type": "stream",
     "text": [
      "Number of rows: 95662\n",
      "Number of columns: 16\n",
      "\n",
      "Data types:\n",
      "TransactionId            object\n",
      "BatchId                  object\n",
      "AccountId                object\n",
      "SubscriptionId           object\n",
      "CustomerId               object\n",
      "CurrencyCode             object\n",
      "CountryCode               int64\n",
      "ProviderId               object\n",
      "ProductId                object\n",
      "ProductCategory          object\n",
      "ChannelId                object\n",
      "Amount                  float64\n",
      "Value                     int64\n",
      "TransactionStartTime     object\n",
      "PricingStrategy           int64\n",
      "FraudResult               int64\n",
      "dtype: object\n",
      "\n",
      "\n"
     ]
    }
   ],
   "source": [
    "def data2_columnROW(data):\n",
    "    num_rows, num_cols = data.shape\n",
    "    data_types = data.dtypes\n",
    "\n",
    "    print(f\"Number of rows: {num_rows}\\nNumber of columns: {num_cols}\\n\")\n",
    "    print(\"Data types:\")\n",
    "    print(data_types)\n",
    "    print(\"\\n\")\n",
    "    # Display overview of rows and columns\n",
    "data2_columnROW(data)"
   ]
  },
  {
   "cell_type": "markdown",
   "metadata": {},
   "source": [
    "###Create Aggregate Features"
   ]
  },
  {
   "cell_type": "code",
   "execution_count": 18,
   "metadata": {},
   "outputs": [
    {
     "name": "stdout",
     "output_type": "stream",
     "text": [
      "Aggregate Features:\n",
      "        AccountId  TotalTransactionAmount  AverageTransactionAmount  \\\n",
      "0     AccountId_1                 70000.0              2.333333e+04   \n",
      "1    AccountId_10              -3330347.0             -3.451137e+03   \n",
      "2   AccountId_100                180000.0              9.000000e+04   \n",
      "3  AccountId_1000                 97000.0              9.700000e+03   \n",
      "4  AccountId_1002               2000000.0              2.000000e+06   \n",
      "\n",
      "   TransactionCount  StdDevTransactionAmount  \n",
      "0                 3              5773.502692  \n",
      "1               965              3567.343270  \n",
      "2                 2             14142.135624  \n",
      "3                10             16686.987612  \n",
      "4                 1                      NaN  \n"
     ]
    }
   ],
   "source": [
    "def create_aggregate_features(data):\n",
    "    data['Amount'] = pd.to_numeric(data['Amount'], errors='coerce')\n",
    "    aggregate_features = data.groupby('AccountId').agg(\n",
    "        TotalTransactionAmount=('Amount', 'sum'),\n",
    "        AverageTransactionAmount=('Amount', 'mean'),\n",
    "        TransactionCount=('Amount', 'count'),\n",
    "        StdDevTransactionAmount=('Amount', 'std')\n",
    "    ).reset_index()\n",
    "    return aggregate_features\n",
    "\n",
    "# Feature Engineering\n",
    "aggregate_features = create_aggregate_features(data)\n",
    "print(\"Aggregate Features:\")\n",
    "print(aggregate_features.head())"
   ]
  },
  {
   "cell_type": "markdown",
   "metadata": {},
   "source": [
    "###Extract Features"
   ]
  },
  {
   "cell_type": "code",
   "execution_count": 24,
   "metadata": {},
   "outputs": [
    {
     "name": "stdout",
     "output_type": "stream",
     "text": [
      "       TransactionStartTime  Transaction_Hour  Transaction_Day  \\\n",
      "0 2018-11-15 02:18:49+00:00                 2               15   \n",
      "1 2018-11-15 02:19:08+00:00                 2               15   \n",
      "2 2018-11-15 02:44:21+00:00                 2               15   \n",
      "3 2018-11-15 03:32:55+00:00                 3               15   \n",
      "4 2018-11-15 03:34:21+00:00                 3               15   \n",
      "\n",
      "   Transaction_Month  Transaction_Year  \n",
      "0                 11              2018  \n",
      "1                 11              2018  \n",
      "2                 11              2018  \n",
      "3                 11              2018  \n",
      "4                 11              2018  \n"
     ]
    }
   ],
   "source": [
    "#  Convert the transaction date column to datetime  \n",
    "df['TransactionStartTime'] = pd.to_datetime(df['TransactionStartTime'])\n",
    "\n",
    "# Extract features\n",
    "df['Transaction_Hour'] = df['TransactionStartTime'].dt.hour\n",
    "df['Transaction_Day'] = df['TransactionStartTime'].dt.day\n",
    "df['Transaction_Month'] = df['TransactionStartTime'].dt.month\n",
    "df['Transaction_Year'] = df['TransactionStartTime'].dt.year\n",
    "\n",
    "# Step 5: Display the updated DataFrame with new features\n",
    "print(df[['TransactionStartTime', 'Transaction_Hour', 'Transaction_Day', 'Transaction_Month', 'Transaction_Year']].head())"
   ]
  },
  {
   "cell_type": "markdown",
   "metadata": {},
   "source": [
    "###Convert to Datetime:\n",
    "The pd.to_datetime() function converts the transaction_date column to a datetime format, allowing for easy extraction of date components.\n",
    "Extract Features:\n",
    "Hour: df['transaction_date'].dt.hour extracts the hour from the transaction date.\n",
    "Day: df['transaction_date'].dt.day extracts the day of the month.\n",
    "Month: df['transaction_date'].dt.month extracts the month.\n",
    "Year: df['transaction_date'].dt.year extracts the year.\n",
    "Display the Result: The last line prints the first few rows of the updated DataFrame, showing the original transaction date along with the newly extracted features."
   ]
  },
  {
   "cell_type": "markdown",
   "metadata": {},
   "source": [
    "###Encode Categorical Variables"
   ]
  },
  {
   "cell_type": "code",
   "execution_count": 43,
   "metadata": {},
   "outputs": [
    {
     "name": "stdout",
     "output_type": "stream",
     "text": [
      "Categorical Features: []\n"
     ]
    }
   ],
   "source": [
    "def Identify_categorical_features(data):\n",
    " categorical_features = data.select_dtypes(include=['object']).columns.tolist()\n",
    " print(f\"Categorical Features: {categorical_features}\")\n",
    " \n",
    "Identify_categorical_features(df)"
   ]
  },
  {
   "cell_type": "code",
   "execution_count": 44,
   "metadata": {},
   "outputs": [
    {
     "name": "stdout",
     "output_type": "stream",
     "text": [
      "One-Hot Encoded Data:\n",
      "   TransactionId  BatchId  AccountId  SubscriptionId  CustomerId  \\\n",
      "0        78150.0  46980.0     2490.0          3535.0      2584.0   \n",
      "1        75821.0  31755.0     3219.0          2366.0      2584.0   \n",
      "2        39888.0  60272.0     2713.0           996.0      2806.0   \n",
      "3        48738.0   1797.0     3351.0           974.0      3733.0   \n",
      "4        41364.0  48941.0     3219.0          2366.0      3733.0   \n",
      "\n",
      "   CurrencyCode  CountryCode  ProviderId  ProductId  ProductCategory  \\\n",
      "0           0.0        256.0         5.0        1.0              0.0   \n",
      "1           0.0        256.0         3.0       19.0              2.0   \n",
      "2           0.0        256.0         5.0        0.0              0.0   \n",
      "3           0.0        256.0         0.0       11.0              8.0   \n",
      "4           0.0        256.0         3.0       19.0              2.0   \n",
      "\n",
      "   ChannelId   Amount    Value      TransactionStartTime  PricingStrategy  \\\n",
      "0        2.0   1000.0   1000.0 2018-11-15 02:18:49+00:00              2.0   \n",
      "1        1.0    -20.0     20.0 2018-11-15 02:19:08+00:00              2.0   \n",
      "2        2.0    500.0    500.0 2018-11-15 02:44:21+00:00              2.0   \n",
      "3        2.0  20000.0  21800.0 2018-11-15 03:32:55+00:00              2.0   \n",
      "4        1.0   -644.0    644.0 2018-11-15 03:34:21+00:00              2.0   \n",
      "\n",
      "   FraudResult  Transaction_Hour  Transaction_Day  Transaction_Month  \\\n",
      "0          0.0               2.0             15.0               11.0   \n",
      "1          0.0               2.0             15.0               11.0   \n",
      "2          0.0               2.0             15.0               11.0   \n",
      "3          0.0               3.0             15.0               11.0   \n",
      "4          0.0               3.0             15.0               11.0   \n",
      "\n",
      "   Transaction_Year  \n",
      "0            2018.0  \n",
      "1            2018.0  \n",
      "2            2018.0  \n",
      "3            2018.0  \n",
      "4            2018.0  \n"
     ]
    }
   ],
   "source": [
    "# Encode Categorical Variables: One-Hot Encoding\n",
    "def one_hot_encode(data, categorical_features):\n",
    "    data = pd.get_dummies(data, columns=categorical_features)\n",
    "    return data\n",
    "\n",
    "categorical_features = df.select_dtypes(include=['object']).columns.tolist()\n",
    "data_one_hot_encoded = one_hot_encode(df, categorical_features)\n",
    "print(\"One-Hot Encoded Data:\")\n",
    "print(data_one_hot_encoded.head())"
   ]
  },
  {
   "cell_type": "code",
   "execution_count": 45,
   "metadata": {},
   "outputs": [
    {
     "name": "stdout",
     "output_type": "stream",
     "text": [
      "Label Encoded Data:\n",
      "   TransactionId  BatchId  AccountId  SubscriptionId  CustomerId  \\\n",
      "0        78150.0  46980.0     2490.0          3535.0      2584.0   \n",
      "1        75821.0  31755.0     3219.0          2366.0      2584.0   \n",
      "2        39888.0  60272.0     2713.0           996.0      2806.0   \n",
      "3        48738.0   1797.0     3351.0           974.0      3733.0   \n",
      "4        41364.0  48941.0     3219.0          2366.0      3733.0   \n",
      "\n",
      "   CurrencyCode  CountryCode  ProviderId  ProductId  ProductCategory  \\\n",
      "0           0.0        256.0         5.0        1.0              0.0   \n",
      "1           0.0        256.0         3.0       19.0              2.0   \n",
      "2           0.0        256.0         5.0        0.0              0.0   \n",
      "3           0.0        256.0         0.0       11.0              8.0   \n",
      "4           0.0        256.0         3.0       19.0              2.0   \n",
      "\n",
      "   ChannelId   Amount    Value      TransactionStartTime  PricingStrategy  \\\n",
      "0        2.0   1000.0   1000.0 2018-11-15 02:18:49+00:00              2.0   \n",
      "1        1.0    -20.0     20.0 2018-11-15 02:19:08+00:00              2.0   \n",
      "2        2.0    500.0    500.0 2018-11-15 02:44:21+00:00              2.0   \n",
      "3        2.0  20000.0  21800.0 2018-11-15 03:32:55+00:00              2.0   \n",
      "4        1.0   -644.0    644.0 2018-11-15 03:34:21+00:00              2.0   \n",
      "\n",
      "   FraudResult  Transaction_Hour  Transaction_Day  Transaction_Month  \\\n",
      "0          0.0               2.0             15.0               11.0   \n",
      "1          0.0               2.0             15.0               11.0   \n",
      "2          0.0               2.0             15.0               11.0   \n",
      "3          0.0               3.0             15.0               11.0   \n",
      "4          0.0               3.0             15.0               11.0   \n",
      "\n",
      "   Transaction_Year  \n",
      "0            2018.0  \n",
      "1            2018.0  \n",
      "2            2018.0  \n",
      "3            2018.0  \n",
      "4            2018.0  \n"
     ]
    }
   ],
   "source": [
    "# Encode Categorical Variables: Label Encoding\n",
    "def label_encode(data, categorical_features):\n",
    "    le = LabelEncoder()\n",
    "    for feature in categorical_features:\n",
    "        data[feature] = le.fit_transform(data[feature].astype(str))\n",
    "    return data\n",
    "\n",
    "data_label_encoded = label_encode(df, categorical_features)\n",
    "print(\"Label Encoded Data:\")\n",
    "print(data_label_encoded.head())"
   ]
  },
  {
   "cell_type": "markdown",
   "metadata": {},
   "source": [
    "###Identify Categorical Variables:\n",
    "The code retrieves categorical columns using select_dtypes(include='object'), which is useful for identifying all object-type columns in the DataFrame.\n",
    "One-Hot Encoding:\n",
    "pd.get_dummies() is used to perform One-Hot Encoding. This function creates a new binary column for each category in the categorical variables.\n",
    "The drop_first=True parameter is used to avoid the dummy variable trap, which can lead to multicollinearity in linear models.\n",
    "Label Encoding:\n",
    "The LabelEncoder from sklearn.preprocessing is used to convert categorical variables into numerical format by assigning a unique integer to each category.\n",
    "A loop applies the label encoding to each categorical column, modifying the copy of the original DataFrame.\n",
    "Display Results:\n",
    "The results are printed to show the first few rows of the One-Hot Encoded and Label Encoded DataFrames."
   ]
  },
  {
   "cell_type": "markdown",
   "metadata": {},
   "source": [
    "###Handle Missing values"
   ]
  },
  {
   "cell_type": "code",
   "execution_count": 46,
   "metadata": {},
   "outputs": [
    {
     "name": "stdout",
     "output_type": "stream",
     "text": [
      "Missing Values in Each Column:\n",
      "Series([], dtype: int64)\n"
     ]
    }
   ],
   "source": [
    "#  Identify missing values\n",
    "missing_values = df.isnull().sum()\n",
    "print(\"Missing Values in Each Column:\")\n",
    "print(missing_values[missing_values > 0])  # Display only columns with missing values\n"
   ]
  },
  {
   "cell_type": "code",
   "execution_count": 47,
   "metadata": {},
   "outputs": [
    {
     "data": {
      "text/plain": [
       "TransactionId           0\n",
       "BatchId                 0\n",
       "AccountId               0\n",
       "SubscriptionId          0\n",
       "CustomerId              0\n",
       "CurrencyCode            0\n",
       "CountryCode             0\n",
       "ProviderId              0\n",
       "ProductId               0\n",
       "ProductCategory         0\n",
       "ChannelId               0\n",
       "Amount                  0\n",
       "Value                   0\n",
       "TransactionStartTime    0\n",
       "PricingStrategy         0\n",
       "FraudResult             0\n",
       "Transaction_Hour        0\n",
       "Transaction_Day         0\n",
       "Transaction_Month       0\n",
       "Transaction_Year        0\n",
       "dtype: int64"
      ]
     },
     "execution_count": 47,
     "metadata": {},
     "output_type": "execute_result"
    }
   ],
   "source": [
    "df.isna().sum()"
   ]
  },
  {
   "cell_type": "code",
   "execution_count": 48,
   "metadata": {},
   "outputs": [
    {
     "ename": "ValueError",
     "evalue": "at least one array or dtype is required",
     "output_type": "error",
     "traceback": [
      "\u001b[1;31m---------------------------------------------------------------------------\u001b[0m",
      "\u001b[1;31mValueError\u001b[0m                                Traceback (most recent call last)",
      "Cell \u001b[1;32mIn[48], line 14\u001b[0m\n\u001b[0;32m     12\u001b[0m cat_cols \u001b[38;5;241m=\u001b[39m df\u001b[38;5;241m.\u001b[39mselect_dtypes(include\u001b[38;5;241m=\u001b[39m\u001b[38;5;124m'\u001b[39m\u001b[38;5;124mobject\u001b[39m\u001b[38;5;124m'\u001b[39m)\u001b[38;5;241m.\u001b[39mcolumns\n\u001b[0;32m     13\u001b[0m imputer_cat \u001b[38;5;241m=\u001b[39m SimpleImputer(strategy\u001b[38;5;241m=\u001b[39m\u001b[38;5;124m'\u001b[39m\u001b[38;5;124mmost_frequent\u001b[39m\u001b[38;5;124m'\u001b[39m)\n\u001b[1;32m---> 14\u001b[0m df[cat_cols] \u001b[38;5;241m=\u001b[39m \u001b[43mimputer_cat\u001b[49m\u001b[38;5;241;43m.\u001b[39;49m\u001b[43mfit_transform\u001b[49m\u001b[43m(\u001b[49m\u001b[43mdf\u001b[49m\u001b[43m[\u001b[49m\u001b[43mcat_cols\u001b[49m\u001b[43m]\u001b[49m\u001b[43m)\u001b[49m\n\u001b[0;32m     16\u001b[0m \u001b[38;5;28mprint\u001b[39m(\u001b[38;5;124m\"\u001b[39m\u001b[38;5;130;01m\\n\u001b[39;00m\u001b[38;5;124mData after Imputation:\u001b[39m\u001b[38;5;124m\"\u001b[39m)\n\u001b[0;32m     17\u001b[0m \u001b[38;5;28mprint\u001b[39m(df\u001b[38;5;241m.\u001b[39mhead())\n",
      "File \u001b[1;32mc:\\Users\\Tesfaye\\AppData\\Local\\Programs\\Python\\Python312\\Lib\\site-packages\\sklearn\\utils\\_set_output.py:313\u001b[0m, in \u001b[0;36m_wrap_method_output.<locals>.wrapped\u001b[1;34m(self, X, *args, **kwargs)\u001b[0m\n\u001b[0;32m    311\u001b[0m \u001b[38;5;129m@wraps\u001b[39m(f)\n\u001b[0;32m    312\u001b[0m \u001b[38;5;28;01mdef\u001b[39;00m \u001b[38;5;21mwrapped\u001b[39m(\u001b[38;5;28mself\u001b[39m, X, \u001b[38;5;241m*\u001b[39margs, \u001b[38;5;241m*\u001b[39m\u001b[38;5;241m*\u001b[39mkwargs):\n\u001b[1;32m--> 313\u001b[0m     data_to_wrap \u001b[38;5;241m=\u001b[39m \u001b[43mf\u001b[49m\u001b[43m(\u001b[49m\u001b[38;5;28;43mself\u001b[39;49m\u001b[43m,\u001b[49m\u001b[43m \u001b[49m\u001b[43mX\u001b[49m\u001b[43m,\u001b[49m\u001b[43m \u001b[49m\u001b[38;5;241;43m*\u001b[39;49m\u001b[43margs\u001b[49m\u001b[43m,\u001b[49m\u001b[43m \u001b[49m\u001b[38;5;241;43m*\u001b[39;49m\u001b[38;5;241;43m*\u001b[39;49m\u001b[43mkwargs\u001b[49m\u001b[43m)\u001b[49m\n\u001b[0;32m    314\u001b[0m     \u001b[38;5;28;01mif\u001b[39;00m \u001b[38;5;28misinstance\u001b[39m(data_to_wrap, \u001b[38;5;28mtuple\u001b[39m):\n\u001b[0;32m    315\u001b[0m         \u001b[38;5;66;03m# only wrap the first output for cross decomposition\u001b[39;00m\n\u001b[0;32m    316\u001b[0m         return_tuple \u001b[38;5;241m=\u001b[39m (\n\u001b[0;32m    317\u001b[0m             _wrap_data_with_container(method, data_to_wrap[\u001b[38;5;241m0\u001b[39m], X, \u001b[38;5;28mself\u001b[39m),\n\u001b[0;32m    318\u001b[0m             \u001b[38;5;241m*\u001b[39mdata_to_wrap[\u001b[38;5;241m1\u001b[39m:],\n\u001b[0;32m    319\u001b[0m         )\n",
      "File \u001b[1;32mc:\\Users\\Tesfaye\\AppData\\Local\\Programs\\Python\\Python312\\Lib\\site-packages\\sklearn\\base.py:1098\u001b[0m, in \u001b[0;36mTransformerMixin.fit_transform\u001b[1;34m(self, X, y, **fit_params)\u001b[0m\n\u001b[0;32m   1083\u001b[0m         warnings\u001b[38;5;241m.\u001b[39mwarn(\n\u001b[0;32m   1084\u001b[0m             (\n\u001b[0;32m   1085\u001b[0m                 \u001b[38;5;124mf\u001b[39m\u001b[38;5;124m\"\u001b[39m\u001b[38;5;124mThis object (\u001b[39m\u001b[38;5;132;01m{\u001b[39;00m\u001b[38;5;28mself\u001b[39m\u001b[38;5;241m.\u001b[39m\u001b[38;5;18m__class__\u001b[39m\u001b[38;5;241m.\u001b[39m\u001b[38;5;18m__name__\u001b[39m\u001b[38;5;132;01m}\u001b[39;00m\u001b[38;5;124m) has a `transform`\u001b[39m\u001b[38;5;124m\"\u001b[39m\n\u001b[1;32m   (...)\u001b[0m\n\u001b[0;32m   1093\u001b[0m             \u001b[38;5;167;01mUserWarning\u001b[39;00m,\n\u001b[0;32m   1094\u001b[0m         )\n\u001b[0;32m   1096\u001b[0m \u001b[38;5;28;01mif\u001b[39;00m y \u001b[38;5;129;01mis\u001b[39;00m \u001b[38;5;28;01mNone\u001b[39;00m:\n\u001b[0;32m   1097\u001b[0m     \u001b[38;5;66;03m# fit method of arity 1 (unsupervised transformation)\u001b[39;00m\n\u001b[1;32m-> 1098\u001b[0m     \u001b[38;5;28;01mreturn\u001b[39;00m \u001b[38;5;28;43mself\u001b[39;49m\u001b[38;5;241;43m.\u001b[39;49m\u001b[43mfit\u001b[49m\u001b[43m(\u001b[49m\u001b[43mX\u001b[49m\u001b[43m,\u001b[49m\u001b[43m \u001b[49m\u001b[38;5;241;43m*\u001b[39;49m\u001b[38;5;241;43m*\u001b[39;49m\u001b[43mfit_params\u001b[49m\u001b[43m)\u001b[49m\u001b[38;5;241m.\u001b[39mtransform(X)\n\u001b[0;32m   1099\u001b[0m \u001b[38;5;28;01melse\u001b[39;00m:\n\u001b[0;32m   1100\u001b[0m     \u001b[38;5;66;03m# fit method of arity 2 (supervised transformation)\u001b[39;00m\n\u001b[0;32m   1101\u001b[0m     \u001b[38;5;28;01mreturn\u001b[39;00m \u001b[38;5;28mself\u001b[39m\u001b[38;5;241m.\u001b[39mfit(X, y, \u001b[38;5;241m*\u001b[39m\u001b[38;5;241m*\u001b[39mfit_params)\u001b[38;5;241m.\u001b[39mtransform(X)\n",
      "File \u001b[1;32mc:\\Users\\Tesfaye\\AppData\\Local\\Programs\\Python\\Python312\\Lib\\site-packages\\sklearn\\base.py:1473\u001b[0m, in \u001b[0;36m_fit_context.<locals>.decorator.<locals>.wrapper\u001b[1;34m(estimator, *args, **kwargs)\u001b[0m\n\u001b[0;32m   1466\u001b[0m     estimator\u001b[38;5;241m.\u001b[39m_validate_params()\n\u001b[0;32m   1468\u001b[0m \u001b[38;5;28;01mwith\u001b[39;00m config_context(\n\u001b[0;32m   1469\u001b[0m     skip_parameter_validation\u001b[38;5;241m=\u001b[39m(\n\u001b[0;32m   1470\u001b[0m         prefer_skip_nested_validation \u001b[38;5;129;01mor\u001b[39;00m global_skip_validation\n\u001b[0;32m   1471\u001b[0m     )\n\u001b[0;32m   1472\u001b[0m ):\n\u001b[1;32m-> 1473\u001b[0m     \u001b[38;5;28;01mreturn\u001b[39;00m \u001b[43mfit_method\u001b[49m\u001b[43m(\u001b[49m\u001b[43mestimator\u001b[49m\u001b[43m,\u001b[49m\u001b[43m \u001b[49m\u001b[38;5;241;43m*\u001b[39;49m\u001b[43margs\u001b[49m\u001b[43m,\u001b[49m\u001b[43m \u001b[49m\u001b[38;5;241;43m*\u001b[39;49m\u001b[38;5;241;43m*\u001b[39;49m\u001b[43mkwargs\u001b[49m\u001b[43m)\u001b[49m\n",
      "File \u001b[1;32mc:\\Users\\Tesfaye\\AppData\\Local\\Programs\\Python\\Python312\\Lib\\site-packages\\sklearn\\impute\\_base.py:421\u001b[0m, in \u001b[0;36mSimpleImputer.fit\u001b[1;34m(self, X, y)\u001b[0m\n\u001b[0;32m    403\u001b[0m \u001b[38;5;129m@_fit_context\u001b[39m(prefer_skip_nested_validation\u001b[38;5;241m=\u001b[39m\u001b[38;5;28;01mTrue\u001b[39;00m)\n\u001b[0;32m    404\u001b[0m \u001b[38;5;28;01mdef\u001b[39;00m \u001b[38;5;21mfit\u001b[39m(\u001b[38;5;28mself\u001b[39m, X, y\u001b[38;5;241m=\u001b[39m\u001b[38;5;28;01mNone\u001b[39;00m):\n\u001b[0;32m    405\u001b[0m \u001b[38;5;250m    \u001b[39m\u001b[38;5;124;03m\"\"\"Fit the imputer on `X`.\u001b[39;00m\n\u001b[0;32m    406\u001b[0m \n\u001b[0;32m    407\u001b[0m \u001b[38;5;124;03m    Parameters\u001b[39;00m\n\u001b[1;32m   (...)\u001b[0m\n\u001b[0;32m    419\u001b[0m \u001b[38;5;124;03m        Fitted estimator.\u001b[39;00m\n\u001b[0;32m    420\u001b[0m \u001b[38;5;124;03m    \"\"\"\u001b[39;00m\n\u001b[1;32m--> 421\u001b[0m     X \u001b[38;5;241m=\u001b[39m \u001b[38;5;28;43mself\u001b[39;49m\u001b[38;5;241;43m.\u001b[39;49m\u001b[43m_validate_input\u001b[49m\u001b[43m(\u001b[49m\u001b[43mX\u001b[49m\u001b[43m,\u001b[49m\u001b[43m \u001b[49m\u001b[43min_fit\u001b[49m\u001b[38;5;241;43m=\u001b[39;49m\u001b[38;5;28;43;01mTrue\u001b[39;49;00m\u001b[43m)\u001b[49m\n\u001b[0;32m    423\u001b[0m     \u001b[38;5;66;03m# default fill_value is 0 for numerical input and \"missing_value\"\u001b[39;00m\n\u001b[0;32m    424\u001b[0m     \u001b[38;5;66;03m# otherwise\u001b[39;00m\n\u001b[0;32m    425\u001b[0m     \u001b[38;5;28;01mif\u001b[39;00m \u001b[38;5;28mself\u001b[39m\u001b[38;5;241m.\u001b[39mfill_value \u001b[38;5;129;01mis\u001b[39;00m \u001b[38;5;28;01mNone\u001b[39;00m:\n",
      "File \u001b[1;32mc:\\Users\\Tesfaye\\AppData\\Local\\Programs\\Python\\Python312\\Lib\\site-packages\\sklearn\\impute\\_base.py:350\u001b[0m, in \u001b[0;36mSimpleImputer._validate_input\u001b[1;34m(self, X, in_fit)\u001b[0m\n\u001b[0;32m    348\u001b[0m         \u001b[38;5;28;01mraise\u001b[39;00m new_ve \u001b[38;5;28;01mfrom\u001b[39;00m \u001b[38;5;28;01mNone\u001b[39;00m\n\u001b[0;32m    349\u001b[0m     \u001b[38;5;28;01melse\u001b[39;00m:\n\u001b[1;32m--> 350\u001b[0m         \u001b[38;5;28;01mraise\u001b[39;00m ve\n\u001b[0;32m    352\u001b[0m \u001b[38;5;28;01mif\u001b[39;00m in_fit:\n\u001b[0;32m    353\u001b[0m     \u001b[38;5;66;03m# Use the dtype seen in `fit` for non-`fit` conversion\u001b[39;00m\n\u001b[0;32m    354\u001b[0m     \u001b[38;5;28mself\u001b[39m\u001b[38;5;241m.\u001b[39m_fit_dtype \u001b[38;5;241m=\u001b[39m X\u001b[38;5;241m.\u001b[39mdtype\n",
      "File \u001b[1;32mc:\\Users\\Tesfaye\\AppData\\Local\\Programs\\Python\\Python312\\Lib\\site-packages\\sklearn\\impute\\_base.py:332\u001b[0m, in \u001b[0;36mSimpleImputer._validate_input\u001b[1;34m(self, X, in_fit)\u001b[0m\n\u001b[0;32m    329\u001b[0m     force_all_finite \u001b[38;5;241m=\u001b[39m \u001b[38;5;28;01mTrue\u001b[39;00m\n\u001b[0;32m    331\u001b[0m \u001b[38;5;28;01mtry\u001b[39;00m:\n\u001b[1;32m--> 332\u001b[0m     X \u001b[38;5;241m=\u001b[39m \u001b[38;5;28;43mself\u001b[39;49m\u001b[38;5;241;43m.\u001b[39;49m\u001b[43m_validate_data\u001b[49m\u001b[43m(\u001b[49m\n\u001b[0;32m    333\u001b[0m \u001b[43m        \u001b[49m\u001b[43mX\u001b[49m\u001b[43m,\u001b[49m\n\u001b[0;32m    334\u001b[0m \u001b[43m        \u001b[49m\u001b[43mreset\u001b[49m\u001b[38;5;241;43m=\u001b[39;49m\u001b[43min_fit\u001b[49m\u001b[43m,\u001b[49m\n\u001b[0;32m    335\u001b[0m \u001b[43m        \u001b[49m\u001b[43maccept_sparse\u001b[49m\u001b[38;5;241;43m=\u001b[39;49m\u001b[38;5;124;43m\"\u001b[39;49m\u001b[38;5;124;43mcsc\u001b[39;49m\u001b[38;5;124;43m\"\u001b[39;49m\u001b[43m,\u001b[49m\n\u001b[0;32m    336\u001b[0m \u001b[43m        \u001b[49m\u001b[43mdtype\u001b[49m\u001b[38;5;241;43m=\u001b[39;49m\u001b[43mdtype\u001b[49m\u001b[43m,\u001b[49m\n\u001b[0;32m    337\u001b[0m \u001b[43m        \u001b[49m\u001b[43mforce_writeable\u001b[49m\u001b[38;5;241;43m=\u001b[39;49m\u001b[38;5;28;43;01mTrue\u001b[39;49;00m\u001b[43m \u001b[49m\u001b[38;5;28;43;01mif\u001b[39;49;00m\u001b[43m \u001b[49m\u001b[38;5;129;43;01mnot\u001b[39;49;00m\u001b[43m \u001b[49m\u001b[43min_fit\u001b[49m\u001b[43m \u001b[49m\u001b[38;5;28;43;01melse\u001b[39;49;00m\u001b[43m \u001b[49m\u001b[38;5;28;43;01mNone\u001b[39;49;00m\u001b[43m,\u001b[49m\n\u001b[0;32m    338\u001b[0m \u001b[43m        \u001b[49m\u001b[43mforce_all_finite\u001b[49m\u001b[38;5;241;43m=\u001b[39;49m\u001b[43mforce_all_finite\u001b[49m\u001b[43m,\u001b[49m\n\u001b[0;32m    339\u001b[0m \u001b[43m        \u001b[49m\u001b[43mcopy\u001b[49m\u001b[38;5;241;43m=\u001b[39;49m\u001b[38;5;28;43mself\u001b[39;49m\u001b[38;5;241;43m.\u001b[39;49m\u001b[43mcopy\u001b[49m\u001b[43m,\u001b[49m\n\u001b[0;32m    340\u001b[0m \u001b[43m    \u001b[49m\u001b[43m)\u001b[49m\n\u001b[0;32m    341\u001b[0m \u001b[38;5;28;01mexcept\u001b[39;00m \u001b[38;5;167;01mValueError\u001b[39;00m \u001b[38;5;28;01mas\u001b[39;00m ve:\n\u001b[0;32m    342\u001b[0m     \u001b[38;5;28;01mif\u001b[39;00m \u001b[38;5;124m\"\u001b[39m\u001b[38;5;124mcould not convert\u001b[39m\u001b[38;5;124m\"\u001b[39m \u001b[38;5;129;01min\u001b[39;00m \u001b[38;5;28mstr\u001b[39m(ve):\n",
      "File \u001b[1;32mc:\\Users\\Tesfaye\\AppData\\Local\\Programs\\Python\\Python312\\Lib\\site-packages\\sklearn\\base.py:633\u001b[0m, in \u001b[0;36mBaseEstimator._validate_data\u001b[1;34m(self, X, y, reset, validate_separately, cast_to_ndarray, **check_params)\u001b[0m\n\u001b[0;32m    631\u001b[0m         out \u001b[38;5;241m=\u001b[39m X, y\n\u001b[0;32m    632\u001b[0m \u001b[38;5;28;01melif\u001b[39;00m \u001b[38;5;129;01mnot\u001b[39;00m no_val_X \u001b[38;5;129;01mand\u001b[39;00m no_val_y:\n\u001b[1;32m--> 633\u001b[0m     out \u001b[38;5;241m=\u001b[39m \u001b[43mcheck_array\u001b[49m\u001b[43m(\u001b[49m\u001b[43mX\u001b[49m\u001b[43m,\u001b[49m\u001b[43m \u001b[49m\u001b[43minput_name\u001b[49m\u001b[38;5;241;43m=\u001b[39;49m\u001b[38;5;124;43m\"\u001b[39;49m\u001b[38;5;124;43mX\u001b[39;49m\u001b[38;5;124;43m\"\u001b[39;49m\u001b[43m,\u001b[49m\u001b[43m \u001b[49m\u001b[38;5;241;43m*\u001b[39;49m\u001b[38;5;241;43m*\u001b[39;49m\u001b[43mcheck_params\u001b[49m\u001b[43m)\u001b[49m\n\u001b[0;32m    634\u001b[0m \u001b[38;5;28;01melif\u001b[39;00m no_val_X \u001b[38;5;129;01mand\u001b[39;00m \u001b[38;5;129;01mnot\u001b[39;00m no_val_y:\n\u001b[0;32m    635\u001b[0m     out \u001b[38;5;241m=\u001b[39m _check_y(y, \u001b[38;5;241m*\u001b[39m\u001b[38;5;241m*\u001b[39mcheck_params)\n",
      "File \u001b[1;32mc:\\Users\\Tesfaye\\AppData\\Local\\Programs\\Python\\Python312\\Lib\\site-packages\\sklearn\\utils\\validation.py:887\u001b[0m, in \u001b[0;36mcheck_array\u001b[1;34m(array, accept_sparse, accept_large_sparse, dtype, order, copy, force_writeable, force_all_finite, ensure_2d, allow_nd, ensure_min_samples, ensure_min_features, estimator, input_name)\u001b[0m\n\u001b[0;32m    883\u001b[0m pandas_requires_conversion \u001b[38;5;241m=\u001b[39m \u001b[38;5;28many\u001b[39m(\n\u001b[0;32m    884\u001b[0m     _pandas_dtype_needs_early_conversion(i) \u001b[38;5;28;01mfor\u001b[39;00m i \u001b[38;5;129;01min\u001b[39;00m dtypes_orig\n\u001b[0;32m    885\u001b[0m )\n\u001b[0;32m    886\u001b[0m \u001b[38;5;28;01mif\u001b[39;00m \u001b[38;5;28mall\u001b[39m(\u001b[38;5;28misinstance\u001b[39m(dtype_iter, np\u001b[38;5;241m.\u001b[39mdtype) \u001b[38;5;28;01mfor\u001b[39;00m dtype_iter \u001b[38;5;129;01min\u001b[39;00m dtypes_orig):\n\u001b[1;32m--> 887\u001b[0m     dtype_orig \u001b[38;5;241m=\u001b[39m \u001b[43mnp\u001b[49m\u001b[38;5;241;43m.\u001b[39;49m\u001b[43mresult_type\u001b[49m\u001b[43m(\u001b[49m\u001b[38;5;241;43m*\u001b[39;49m\u001b[43mdtypes_orig\u001b[49m\u001b[43m)\u001b[49m\n\u001b[0;32m    888\u001b[0m \u001b[38;5;28;01melif\u001b[39;00m pandas_requires_conversion \u001b[38;5;129;01mand\u001b[39;00m \u001b[38;5;28many\u001b[39m(d \u001b[38;5;241m==\u001b[39m \u001b[38;5;28mobject\u001b[39m \u001b[38;5;28;01mfor\u001b[39;00m d \u001b[38;5;129;01min\u001b[39;00m dtypes_orig):\n\u001b[0;32m    889\u001b[0m     \u001b[38;5;66;03m# Force object if any of the dtypes is an object\u001b[39;00m\n\u001b[0;32m    890\u001b[0m     dtype_orig \u001b[38;5;241m=\u001b[39m \u001b[38;5;28mobject\u001b[39m\n",
      "\u001b[1;31mValueError\u001b[0m: at least one array or dtype is required"
     ]
    }
   ],
   "source": [
    " # Handle missing values\n",
    "\n",
    "# Method 1: Imputation\n",
    "# Example: Filling missing values with mean for numerical columns and mode for categorical columns\n",
    "\n",
    "# Impute numerical columns with mean\n",
    "num_cols = df.select_dtypes(include='number').columns\n",
    "imputer_num = SimpleImputer(strategy='mean')\n",
    "df[num_cols] = imputer_num.fit_transform(df[num_cols])\n",
    "\n",
    "# Impute categorical columns with mode\n",
    "cat_cols = df.select_dtypes(include='object').columns\n",
    "imputer_cat = SimpleImputer(strategy='most_frequent')\n",
    "df[cat_cols] = imputer_cat.fit_transform(df[cat_cols])\n",
    "\n",
    "print(\"\\nData after Imputation:\")\n",
    "print(df.head())"
   ]
  },
  {
   "cell_type": "code",
   "execution_count": null,
   "metadata": {},
   "outputs": [],
   "source": [
    "\n",
    "# Method 2: Removal\n",
    "# Example: Remove rows with missing values\n",
    "# df_cleaned = df.dropna()  # Uncomment this line to use removal method\n",
    "# print(\"\\nData after Removal:\")\n",
    "# print(df_cleaned.head())"
   ]
  },
  {
   "cell_type": "markdown",
   "metadata": {},
   "source": [
    "###Normalize/Standardize Numerical Features"
   ]
  },
  {
   "cell_type": "code",
   "execution_count": 36,
   "metadata": {},
   "outputs": [
    {
     "name": "stdout",
     "output_type": "stream",
     "text": [
      "\n",
      "Normalized DataFrame (First 5 rows):\n",
      "         TransactionId         BatchId       AccountId       SubscriptionId  \\\n",
      "0  TransactionId_76871   BatchId_36123  AccountId_3957   SubscriptionId_887   \n",
      "1  TransactionId_73770   BatchId_15642  AccountId_4841  SubscriptionId_3829   \n",
      "2  TransactionId_26203   BatchId_53941  AccountId_4229   SubscriptionId_222   \n",
      "3    TransactionId_380  BatchId_102363   AccountId_648  SubscriptionId_2185   \n",
      "4  TransactionId_28195   BatchId_38780  AccountId_4841  SubscriptionId_3829   \n",
      "\n",
      "        CustomerId CurrencyCode  CountryCode    ProviderId     ProductId  \\\n",
      "0  CustomerId_4406          UGX          0.0  ProviderId_6  ProductId_10   \n",
      "1  CustomerId_4406          UGX          0.0  ProviderId_4   ProductId_6   \n",
      "2  CustomerId_4683          UGX          0.0  ProviderId_6   ProductId_1   \n",
      "3   CustomerId_988          UGX          0.0  ProviderId_1  ProductId_21   \n",
      "4   CustomerId_988          UGX          0.0  ProviderId_4   ProductId_6   \n",
      "\n",
      "      ProductCategory    ChannelId    Amount     Value  \\\n",
      "0             airtime  ChannelId_3  0.092004  0.000101   \n",
      "1  financial_services  ChannelId_2  0.091910  0.000002   \n",
      "2             airtime  ChannelId_3  0.091958  0.000050   \n",
      "3        utility_bill  ChannelId_3  0.093750  0.002206   \n",
      "4  financial_services  ChannelId_2  0.091853  0.000065   \n",
      "\n",
      "       TransactionStartTime  PricingStrategy  FraudResult  Transaction_Hour  \\\n",
      "0 2018-11-15 02:18:49+00:00              0.5          0.0          0.086957   \n",
      "1 2018-11-15 02:19:08+00:00              0.5          0.0          0.086957   \n",
      "2 2018-11-15 02:44:21+00:00              0.5          0.0          0.086957   \n",
      "3 2018-11-15 03:32:55+00:00              0.5          0.0          0.130435   \n",
      "4 2018-11-15 03:34:21+00:00              0.5          0.0          0.130435   \n",
      "\n",
      "   Transaction_Day  Transaction_Month  Transaction_Year  \n",
      "0         0.466667           0.909091               0.0  \n",
      "1         0.466667           0.909091               0.0  \n",
      "2         0.466667           0.909091               0.0  \n",
      "3         0.466667           0.909091               0.0  \n",
      "4         0.466667           0.909091               0.0  \n"
     ]
    }
   ],
   "source": [
    "\n",
    "#  Select numerical features\n",
    "numeric_cols = df.select_dtypes(include='number').columns.tolist()  # List of numerical columns\n",
    "\n",
    "#  Normalization (Min-Max Scaling)\n",
    "min_max_scaler = MinMaxScaler()\n",
    "df_normalized = df.copy()  # Create a copy to avoid modifying the original DataFrame\n",
    "df_normalized[numeric_cols] = min_max_scaler.fit_transform(df[numeric_cols])\n",
    "\n",
    "print(\"\\nNormalized DataFrame (First 5 rows):\")\n",
    "print(df_normalized.head())\n"
   ]
  },
  {
   "cell_type": "code",
   "execution_count": 37,
   "metadata": {},
   "outputs": [
    {
     "name": "stdout",
     "output_type": "stream",
     "text": [
      "\n",
      "Standardized DataFrame (First 5 rows):\n",
      "         TransactionId         BatchId       AccountId       SubscriptionId  \\\n",
      "0  TransactionId_76871   BatchId_36123  AccountId_3957   SubscriptionId_887   \n",
      "1  TransactionId_73770   BatchId_15642  AccountId_4841  SubscriptionId_3829   \n",
      "2  TransactionId_26203   BatchId_53941  AccountId_4229   SubscriptionId_222   \n",
      "3    TransactionId_380  BatchId_102363   AccountId_648  SubscriptionId_2185   \n",
      "4  TransactionId_28195   BatchId_38780  AccountId_4841  SubscriptionId_3829   \n",
      "\n",
      "        CustomerId CurrencyCode  CountryCode    ProviderId     ProductId  \\\n",
      "0  CustomerId_4406          UGX          0.0  ProviderId_6  ProductId_10   \n",
      "1  CustomerId_4406          UGX          0.0  ProviderId_4   ProductId_6   \n",
      "2  CustomerId_4683          UGX          0.0  ProviderId_6   ProductId_1   \n",
      "3   CustomerId_988          UGX          0.0  ProviderId_1  ProductId_21   \n",
      "4   CustomerId_988          UGX          0.0  ProviderId_4   ProductId_6   \n",
      "\n",
      "      ProductCategory    ChannelId    Amount     Value  \\\n",
      "0             airtime  ChannelId_3 -0.046371 -0.072291   \n",
      "1  financial_services  ChannelId_2 -0.054643 -0.080251   \n",
      "2             airtime  ChannelId_3 -0.050426 -0.076352   \n",
      "3        utility_bill  ChannelId_3  0.107717  0.096648   \n",
      "4  financial_services  ChannelId_2 -0.059704 -0.075183   \n",
      "\n",
      "       TransactionStartTime  PricingStrategy  FraudResult  Transaction_Hour  \\\n",
      "0 2018-11-15 02:18:49+00:00        -0.349252    -0.044962         -2.155530   \n",
      "1 2018-11-15 02:19:08+00:00        -0.349252    -0.044962         -2.155530   \n",
      "2 2018-11-15 02:44:21+00:00        -0.349252    -0.044962         -2.155530   \n",
      "3 2018-11-15 03:32:55+00:00        -0.349252    -0.044962         -1.949214   \n",
      "4 2018-11-15 03:34:21+00:00        -0.349252    -0.044962         -1.949214   \n",
      "\n",
      "   Transaction_Day  Transaction_Month  Transaction_Year  \n",
      "0        -0.100739           0.848684         -0.994246  \n",
      "1        -0.100739           0.848684         -0.994246  \n",
      "2        -0.100739           0.848684         -0.994246  \n",
      "3        -0.100739           0.848684         -0.994246  \n",
      "4        -0.100739           0.848684         -0.994246  \n"
     ]
    }
   ],
   "source": [
    "\n",
    "#   Standardization (Z-Score Scaling)\n",
    "standard_scaler = StandardScaler()\n",
    "df_standardized = df.copy()  # Create a copy to avoid modifying the original DataFrame\n",
    "df_standardized[numeric_cols] = standard_scaler.fit_transform(df[numeric_cols])\n",
    "\n",
    "print(\"\\nStandardized DataFrame (First 5 rows):\")\n",
    "print(df_standardized.head())"
   ]
  },
  {
   "cell_type": "markdown",
   "metadata": {},
   "source": [
    "###Select Numerical Features:\n",
    "The code retrieves a list of numerical columns using select_dtypes(include='number').\n",
    "Normalization (Min-Max Scaling):\n",
    "The MinMaxScaler from sklearn.preprocessing scales the features to a range of [0, 1].\n",
    "The fit_transform() method is applied to the numerical columns, and the results are stored in a new DataFrame called df_normalized.\n",
    "Standardization (Z-Score Scaling):\n",
    "The StandardScaler scales the features to have a mean of 0 and a standard deviation of 1.\n",
    "Similar to normalization, fit_transform() is applied, and the results are stored in df_standardized.\n",
    "Display Results:\n",
    "The first five rows of both the normalized and standardized DataFrames are printed for comparison."
   ]
  },
  {
   "cell_type": "code",
   "execution_count": 66,
   "metadata": {},
   "outputs": [],
   "source": [
    "from datetime import datetime\n",
    "# Example functions to calculate RFMS components\n",
    "# Recency measures how recently a customer made a transaction.\n",
    "def calculate_recency(data, date_column='TransactionStartTime'):\n",
    "    data[date_column] = pd.to_datetime(data[date_column])\n",
    "    max_date = data[date_column].max()#Finds the most recent transaction date.\n",
    "    data['Recency'] = (max_date - data[date_column]).dt.days #Calculates the number of days since the last transaction for each transaction.\n",
    "    return data\n",
    "\n",
    "#Frequency measures how often a customer makes transactions.\n",
    "def calculate_frequency(data, id_column='CustomerId'):\n",
    "    frequency = data.groupby(id_column).size().reset_index(name='Frequency')#Groups the data by CustomerId and counts the number of transactions for each customer.\n",
    "    data = data.merge(frequency, on=id_column)\n",
    "    return data\n",
    "\n",
    "#Monetary measures the total amount spent by a customer.\n",
    "def calculate_monetary(data, id_column='CustomerId', amount_column='Amount'):\n",
    "    monetary = data.groupby(id_column)[amount_column].sum().reset_index(name='Monetary')# Groups the data by CustomerId and sums the transaction amounts for each customer\n",
    "    data = data.merge(monetary, on=id_column)\n",
    "    return data\n",
    "\n",
    "#Seasonality measures the most common month of transactions for each customer.\n",
    "def calculate_seasonality(data, date_column='TransactionStartTime'):\n",
    "    data[date_column] = pd.to_datetime(data[date_column])\n",
    "    data['Month'] = data[date_column].dt.month\n",
    "    # Groups the data by CustomerId and finds the most frequent transaction month for each customer.\n",
    "    seasonality = data.groupby('CustomerId')['Month'].apply(lambda x: x.value_counts().idxmax()).reset_index(name='Seasonality')\n",
    "    data = data.merge(seasonality, on='CustomerId')\n",
    "    return data\n",
    "\n",
    "# Calculate RFMS\n",
    "data = calculate_recency(df)\n",
    "data = calculate_frequency(data)\n",
    "data = calculate_monetary(data)\n",
    "data = calculate_seasonality(df)"
   ]
  },
  {
   "cell_type": "code",
   "execution_count": 67,
   "metadata": {},
   "outputs": [
    {
     "data": {
      "text/html": [
       "<div>\n",
       "<style scoped>\n",
       "    .dataframe tbody tr th:only-of-type {\n",
       "        vertical-align: middle;\n",
       "    }\n",
       "\n",
       "    .dataframe tbody tr th {\n",
       "        vertical-align: top;\n",
       "    }\n",
       "\n",
       "    .dataframe thead th {\n",
       "        text-align: right;\n",
       "    }\n",
       "</style>\n",
       "<table border=\"1\" class=\"dataframe\">\n",
       "  <thead>\n",
       "    <tr style=\"text-align: right;\">\n",
       "      <th></th>\n",
       "      <th>TransactionId</th>\n",
       "      <th>BatchId</th>\n",
       "      <th>AccountId</th>\n",
       "      <th>SubscriptionId</th>\n",
       "      <th>CustomerId</th>\n",
       "      <th>CurrencyCode</th>\n",
       "      <th>CountryCode</th>\n",
       "      <th>ProviderId</th>\n",
       "      <th>ProductId</th>\n",
       "      <th>ProductCategory</th>\n",
       "      <th>...</th>\n",
       "      <th>TransactionStartTime</th>\n",
       "      <th>PricingStrategy</th>\n",
       "      <th>FraudResult</th>\n",
       "      <th>Transaction_Hour</th>\n",
       "      <th>Transaction_Day</th>\n",
       "      <th>Transaction_Month</th>\n",
       "      <th>Transaction_Year</th>\n",
       "      <th>Recency</th>\n",
       "      <th>Month</th>\n",
       "      <th>Seasonality</th>\n",
       "    </tr>\n",
       "  </thead>\n",
       "  <tbody>\n",
       "    <tr>\n",
       "      <th>0</th>\n",
       "      <td>78150.0</td>\n",
       "      <td>46980.0</td>\n",
       "      <td>2490.0</td>\n",
       "      <td>3535.0</td>\n",
       "      <td>2584.0</td>\n",
       "      <td>0.0</td>\n",
       "      <td>256.0</td>\n",
       "      <td>5.0</td>\n",
       "      <td>1.0</td>\n",
       "      <td>0.0</td>\n",
       "      <td>...</td>\n",
       "      <td>2018-11-15 02:18:49+00:00</td>\n",
       "      <td>2.0</td>\n",
       "      <td>0.0</td>\n",
       "      <td>2.0</td>\n",
       "      <td>15.0</td>\n",
       "      <td>11.0</td>\n",
       "      <td>2018.0</td>\n",
       "      <td>90</td>\n",
       "      <td>11</td>\n",
       "      <td>11</td>\n",
       "    </tr>\n",
       "    <tr>\n",
       "      <th>1</th>\n",
       "      <td>75821.0</td>\n",
       "      <td>31755.0</td>\n",
       "      <td>3219.0</td>\n",
       "      <td>2366.0</td>\n",
       "      <td>2584.0</td>\n",
       "      <td>0.0</td>\n",
       "      <td>256.0</td>\n",
       "      <td>3.0</td>\n",
       "      <td>19.0</td>\n",
       "      <td>2.0</td>\n",
       "      <td>...</td>\n",
       "      <td>2018-11-15 02:19:08+00:00</td>\n",
       "      <td>2.0</td>\n",
       "      <td>0.0</td>\n",
       "      <td>2.0</td>\n",
       "      <td>15.0</td>\n",
       "      <td>11.0</td>\n",
       "      <td>2018.0</td>\n",
       "      <td>90</td>\n",
       "      <td>11</td>\n",
       "      <td>11</td>\n",
       "    </tr>\n",
       "    <tr>\n",
       "      <th>2</th>\n",
       "      <td>39888.0</td>\n",
       "      <td>60272.0</td>\n",
       "      <td>2713.0</td>\n",
       "      <td>996.0</td>\n",
       "      <td>2806.0</td>\n",
       "      <td>0.0</td>\n",
       "      <td>256.0</td>\n",
       "      <td>5.0</td>\n",
       "      <td>0.0</td>\n",
       "      <td>0.0</td>\n",
       "      <td>...</td>\n",
       "      <td>2018-11-15 02:44:21+00:00</td>\n",
       "      <td>2.0</td>\n",
       "      <td>0.0</td>\n",
       "      <td>2.0</td>\n",
       "      <td>15.0</td>\n",
       "      <td>11.0</td>\n",
       "      <td>2018.0</td>\n",
       "      <td>90</td>\n",
       "      <td>11</td>\n",
       "      <td>11</td>\n",
       "    </tr>\n",
       "    <tr>\n",
       "      <th>3</th>\n",
       "      <td>48738.0</td>\n",
       "      <td>1797.0</td>\n",
       "      <td>3351.0</td>\n",
       "      <td>974.0</td>\n",
       "      <td>3733.0</td>\n",
       "      <td>0.0</td>\n",
       "      <td>256.0</td>\n",
       "      <td>0.0</td>\n",
       "      <td>11.0</td>\n",
       "      <td>8.0</td>\n",
       "      <td>...</td>\n",
       "      <td>2018-11-15 03:32:55+00:00</td>\n",
       "      <td>2.0</td>\n",
       "      <td>0.0</td>\n",
       "      <td>3.0</td>\n",
       "      <td>15.0</td>\n",
       "      <td>11.0</td>\n",
       "      <td>2018.0</td>\n",
       "      <td>90</td>\n",
       "      <td>11</td>\n",
       "      <td>12</td>\n",
       "    </tr>\n",
       "    <tr>\n",
       "      <th>4</th>\n",
       "      <td>41364.0</td>\n",
       "      <td>48941.0</td>\n",
       "      <td>3219.0</td>\n",
       "      <td>2366.0</td>\n",
       "      <td>3733.0</td>\n",
       "      <td>0.0</td>\n",
       "      <td>256.0</td>\n",
       "      <td>3.0</td>\n",
       "      <td>19.0</td>\n",
       "      <td>2.0</td>\n",
       "      <td>...</td>\n",
       "      <td>2018-11-15 03:34:21+00:00</td>\n",
       "      <td>2.0</td>\n",
       "      <td>0.0</td>\n",
       "      <td>3.0</td>\n",
       "      <td>15.0</td>\n",
       "      <td>11.0</td>\n",
       "      <td>2018.0</td>\n",
       "      <td>90</td>\n",
       "      <td>11</td>\n",
       "      <td>12</td>\n",
       "    </tr>\n",
       "  </tbody>\n",
       "</table>\n",
       "<p>5 rows × 23 columns</p>\n",
       "</div>"
      ],
      "text/plain": [
       "   TransactionId  BatchId  AccountId  SubscriptionId  CustomerId  \\\n",
       "0        78150.0  46980.0     2490.0          3535.0      2584.0   \n",
       "1        75821.0  31755.0     3219.0          2366.0      2584.0   \n",
       "2        39888.0  60272.0     2713.0           996.0      2806.0   \n",
       "3        48738.0   1797.0     3351.0           974.0      3733.0   \n",
       "4        41364.0  48941.0     3219.0          2366.0      3733.0   \n",
       "\n",
       "   CurrencyCode  CountryCode  ProviderId  ProductId  ProductCategory  ...  \\\n",
       "0           0.0        256.0         5.0        1.0              0.0  ...   \n",
       "1           0.0        256.0         3.0       19.0              2.0  ...   \n",
       "2           0.0        256.0         5.0        0.0              0.0  ...   \n",
       "3           0.0        256.0         0.0       11.0              8.0  ...   \n",
       "4           0.0        256.0         3.0       19.0              2.0  ...   \n",
       "\n",
       "       TransactionStartTime  PricingStrategy  FraudResult Transaction_Hour  \\\n",
       "0 2018-11-15 02:18:49+00:00              2.0          0.0              2.0   \n",
       "1 2018-11-15 02:19:08+00:00              2.0          0.0              2.0   \n",
       "2 2018-11-15 02:44:21+00:00              2.0          0.0              2.0   \n",
       "3 2018-11-15 03:32:55+00:00              2.0          0.0              3.0   \n",
       "4 2018-11-15 03:34:21+00:00              2.0          0.0              3.0   \n",
       "\n",
       "   Transaction_Day  Transaction_Month  Transaction_Year  Recency  Month  \\\n",
       "0             15.0               11.0            2018.0       90     11   \n",
       "1             15.0               11.0            2018.0       90     11   \n",
       "2             15.0               11.0            2018.0       90     11   \n",
       "3             15.0               11.0            2018.0       90     11   \n",
       "4             15.0               11.0            2018.0       90     11   \n",
       "\n",
       "   Seasonality  \n",
       "0           11  \n",
       "1           11  \n",
       "2           11  \n",
       "3           12  \n",
       "4           12  \n",
       "\n",
       "[5 rows x 23 columns]"
      ]
     },
     "execution_count": 67,
     "metadata": {},
     "output_type": "execute_result"
    }
   ],
   "source": [
    "data.head()"
   ]
  },
  {
   "cell_type": "code",
   "execution_count": 62,
   "metadata": {},
   "outputs": [
    {
     "data": {
      "image/png": "[encoded data removed]",
      "text/plain": [
       "<Figure size 1000x600 with 1 Axes>"
      ]
     },
     "metadata": {},
     "output_type": "display_data"
    }
   ],
   "source": [
    "%matplotlib inline\n",
    "def plot_recency_distribution(data, column='Recency'):\n",
    "    plt.figure(figsize=(10, 6))\n",
    "    sns.histplot(data[column], kde=True)\n",
    "    plt.title('Distribution of Recency')\n",
    "    plt.xlabel('Recency')\n",
    "    plt.ylabel('Frequency')\n",
    "    plt.show()\n",
    "\n",
    "plot_recency_distribution(data)"
   ]
  },
  {
   "cell_type": "code",
   "execution_count": 64,
   "metadata": {},
   "outputs": [
    {
     "data": {
      "image/png": "[encoded data removed]",
      "text/plain": [
       "<Figure size 1000x600 with 1 Axes>"
      ]
     },
     "metadata": {},
     "output_type": "display_data"
    }
   ],
   "source": [
    "def plot_Seasonality_distribution(data, column='Seasonality'):\n",
    "    plt.figure(figsize=(10, 6))\n",
    "    sns.histplot(data[column], kde=True)\n",
    "    plt.title('Distribution of Seasonality')\n",
    "    plt.xlabel('Seasonality')\n",
    "    plt.ylabel('Count')\n",
    "    plt.show()\n",
    "\n",
    "\n",
    "plot_Seasonality_distribution(data)"
   ]
  },
  {
   "cell_type": "code",
   "execution_count": null,
   "metadata": {},
   "outputs": [],
   "source": [
    "def plot_seasonality_distribution(data, column='Seasonality'):\n",
    "    plt.figure(figsize=(10, 6))\n",
    "    sns.countplot(data[column])\n",
    "    plt.title('Distribution of Seasonality (Month)')\n",
    "    plt.xlabel('Month')\n",
    "    plt.ylabel('Count')\n",
    "    plt.show()\n",
    " \n",
    "\n",
    "plot_seasonality_distribution(data)"
   ]
  }
 ],
 "metadata": {
  "kernelspec": {
   "display_name": "Python 3",
   "language": "python",
   "name": "python3"
  },
  "language_info": {
   "codemirror_mode": {
    "name": "ipython",
    "version": 3
   },
   "file_extension": ".py",
   "mimetype": "text/x-python",
   "name": "python",
   "nbconvert_exporter": "python",
   "pygments_lexer": "ipython3",
   "version": "3.12.5"
  }
 },
 "nbformat": 4,
 "nbformat_minor": 2
}
